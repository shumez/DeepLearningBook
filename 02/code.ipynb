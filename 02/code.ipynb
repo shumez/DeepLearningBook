{
 "cells": [
  {
   "cell_type": "markdown",
   "metadata": {},
   "source": [
    "# 02. Linear Algebra"
   ]
  },
  {
   "cell_type": "markdown",
   "metadata": {},
   "source": [
    "*Contents*\n",
    "\n",
    "* [02.00.][0200]\n",
    "* [02.01. Scalars, Vectors, Matrices and Tensors][0201]\n",
    "* [02.02. Multiplying Matrices and Vectors][0202]\n",
    "* [02.03. Identity and Inverse Matrices][0203]\n",
    "* [02.04. Linear Dependence and Span][0204]\n",
    "* [02.05. Norms][0205]\n",
    "* [02.06. Special Kinds of Matricesand Vectors][0206]\n",
    "* [02.07. Eigendecomposition][0207]\n",
    "* [02.08. Singular Value Decomposition][0208]\n",
    "* [02.09. The Moore-Penrose Pseudoinverse][0209]\n",
    "* [02.10. The Trace Operator][0210]\n",
    "* [02.11. The Determinant][0211]\n",
    "* [02.12. Example: Principal Components Analysis][0212]\n",
    "\n",
    "[0200]: #0200\n",
    "[0201]: #0201-scalars-vectors-matrices-and-tensors\n",
    "[0202]: #0202-multiplying-matrices-and-vectors\n",
    "[0203]: #0203-identity-and-inverse-matrices\n",
    "[0204]: #0204-linear-dependence-and-span\n",
    "[0205]: #0205-norms\n",
    "[0206]: #0206-special-kinds-of-matricesand-vectors\n",
    "[0207]: #0207-eigendecomposition\n",
    "[0208]: #0208-singular-value-decomposition\n",
    "[0209]: #0209-the-moore-penrose-pseudoinverse\n",
    "[0210]: #0210-the-trace-operator\n",
    "[0211]: #0211-the_determinant\n",
    "[0212]: #0212-example-principal-components-analysis\n",
    "\n",
    "---"
   ]
  },
  {
   "cell_type": "code",
   "execution_count": 1,
   "metadata": {},
   "outputs": [
    {
     "name": "stdout",
     "output_type": "stream",
     "text": [
      "2019-6-1 20:52:34\n",
      "----------------------\n",
      "numpy\t\t1.15.2\n",
      "scipy\t\t1.1.0\n",
      "pandas\t\t0.24.1\n",
      "matplotlib\t3.0.0\n",
      "----------------------\n",
      "ipython\t\t7.2.0\n",
      "----------------------\n",
      "sklearn\t\t0.20.0\n",
      "nltk\t\t3.2.5\n"
     ]
    }
   ],
   "source": [
    "# import\n",
    "import numpy as np\n",
    "import scipy\n",
    "import pandas as pd\n",
    "import matplotlib\n",
    "import matplotlib.pyplot as plt\n",
    "import IPython\n",
    "import sklearn\n",
    "import nltk\n",
    "\n",
    "from IPython.display import Image\n",
    "%matplotlib inline\n",
    "\n",
    "import datetime\n",
    "dt = datetime.datetime.now()\n",
    "\n",
    "print(\n",
    "\"\"\"{}-{}-{} {}:{}:{}\n",
    "----------------------\n",
    "numpy\\t\\t{}\n",
    "scipy\\t\\t{}\n",
    "pandas\\t\\t{}\n",
    "matplotlib\\t{}\n",
    "----------------------\n",
    "ipython\\t\\t{}\n",
    "----------------------\n",
    "sklearn\\t\\t{}\n",
    "nltk\\t\\t{}\"\"\"\n",
    "    .format(dt.year, dt.month, dt.day, dt.hour, dt.minute, dt.second, np.__version__, scipy.__version__, pd.__version__, matplotlib.__version__, IPython.__version__, sklearn.__version__, nltk.__version__))\n",
    "\n",
    "c = {'b': '#1f77b4', \n",
    "     'o': '#ff7f0e', \n",
    "     'g': '#2ca02c', \n",
    "     'r': '#d62728', \n",
    "     'v': '#9467bd', \n",
    "     'br': '#8c564b', \n",
    "     'p': '#e377c2', \n",
    "     'gr': '#7f7f7f', \n",
    "     'y': '#bcbd22', \n",
    "     'c': '#17becf'}"
   ]
  },
  {
   "cell_type": "markdown",
   "metadata": {},
   "source": [
    "## 02.01. Scalars, Vectors, Matrices and Tensors"
   ]
  },
  {
   "cell_type": "markdown",
   "metadata": {},
   "source": [
    "- scalars\n",
    "- vectors\n",
    "- matrices: $\\mathbf{A}$\n",
    "- tensors: $\\mathsf{A}_{i, j, k}$"
   ]
  },
  {
   "cell_type": "markdown",
   "metadata": {},
   "source": [
    "## 02.02. Multiplying Matrices and Vectors"
   ]
  },
  {
   "cell_type": "markdown",
   "metadata": {},
   "source": [
    "## 02.03. Identity and Inverse Matrices\n",
    "## 02.04. Linear Dependence and Span\n",
    "## 02.05. Norms"
   ]
  },
  {
   "cell_type": "markdown",
   "metadata": {},
   "source": [
    "## 02.06. Special Kinds of Matricesand Vectors"
   ]
  },
  {
   "cell_type": "code",
   "execution_count": 10,
   "metadata": {},
   "outputs": [
    {
     "data": {
      "text/plain": [
       "array([[2, 0, 0, 0, 0],\n",
       "       [0, 2, 0, 0, 0],\n",
       "       [0, 0, 6, 0, 0],\n",
       "       [0, 0, 0, 1, 0],\n",
       "       [0, 0, 0, 0, 3]])"
      ]
     },
     "execution_count": 10,
     "metadata": {},
     "output_type": "execute_result"
    }
   ],
   "source": [
    "np.random.seed(123)\n",
    "v = np.random.randint(9, size=5)\n",
    "np.diag(v)"
   ]
  },
  {
   "cell_type": "code",
   "execution_count": 30,
   "metadata": {},
   "outputs": [
    {
     "name": "stdout",
     "output_type": "stream",
     "text": [
      "v ⊙ x \n",
      "=\n",
      "[ 6  7  8  9 10] ⊙ [0 1 2 3 4]\n",
      "=\n",
      "[ 0  7 16 27 40]\n",
      "\n",
      "diag(v) x \n",
      "=\n",
      "[[ 6  0  0  0  0]\n",
      " [ 0  7  0  0  0]\n",
      " [ 0  0  8  0  0]\n",
      " [ 0  0  0  9  0]\n",
      " [ 0  0  0  0 10]]  [0 1 2 3 4]\n",
      "=\n",
      "[ 0  7 16 27 40]\n"
     ]
    }
   ],
   "source": [
    "x = np.arange(5)\n",
    "v = np.arange(6, 11)\n",
    "diag_v = np.diag(v)\n",
    "\n",
    "v_odot_x = np.multiply(v, x)\n",
    "diag_v_x = np.matmul(diag_v, x)\n",
    "print('v ⊙ x \\n=\\n{} ⊙ {}\\n=\\n{}\\n'.format(v, x, v_odot_x))\n",
    "print('diag(v) x \\n=\\n{}  {}\\n=\\n{}'.format(diag_v, np.transpose(x), diag_v_x))"
   ]
  },
  {
   "cell_type": "code",
   "execution_count": 44,
   "metadata": {},
   "outputs": [
    {
     "name": "stdout",
     "output_type": "stream",
     "text": [
      "v = \n",
      "[[4 0 0 0 0]\n",
      " [0 8 0 0 0]\n",
      " [0 0 1 0 0]\n",
      " [0 0 0 8 0]\n",
      " [0 0 0 0 8]]\n",
      "\n",
      "inv(diag(v)) = \n",
      "[[0.25  0.    0.    0.    0.   ]\n",
      " [0.    0.125 0.    0.    0.   ]\n",
      " [0.    0.    1.    0.    0.   ]\n",
      " [0.    0.    0.    0.125 0.   ]\n",
      " [0.    0.    0.    0.    0.125]]\n",
      "\n",
      "diag([1/v1, ..., 1/vn]) =\n",
      "[[0.25  0.    0.    0.    0.   ]\n",
      " [0.    0.125 0.    0.    0.   ]\n",
      " [0.    0.    1.    0.    0.   ]\n",
      " [0.    0.    0.    0.125 0.   ]\n",
      " [0.    0.    0.    0.    0.125]]\n"
     ]
    }
   ],
   "source": [
    "np.random.seed(321)\n",
    "v = np.random.randint(9, size=5)\n",
    "diag_v = np.diag(v)\n",
    "print('v = \\n{}\\n'.format(diag_v))\n",
    "\n",
    "inv_diag_v = np.linalg.inv(diag_v)\n",
    "print('inv(diag(v)) = \\n{}\\n'.format(inv_diag_v))\n",
    "\n",
    "inverse_diag_v = np.diag([1/vi for vi in v])\n",
    "print('diag([1/v1, ..., 1/vn]) =\\n{}'.format(inverse_diag_v))"
   ]
  },
  {
   "cell_type": "code",
   "execution_count": 246,
   "metadata": {},
   "outputs": [
    {
     "name": "stdout",
     "output_type": "stream",
     "text": [
      "A \n",
      "=\n",
      "[[ 0.89012467 -0.33585778  0.30802211]\n",
      " [ 0.09628626 -0.52204215 -0.84746737]\n",
      " [-0.44542903 -0.78400991  0.43234411]]\n",
      "\n",
      "$A^T A$\n",
      "AT A \n",
      "=\n",
      "[[ 1. -0. -0.]\n",
      " [-0.  1. -0.]\n",
      " [-0. -0.  1.]]\n"
     ]
    }
   ],
   "source": [
    "from scipy.stats import ortho_group\n",
    "\n",
    "A = ortho_group.rvs(dim = 3)\n",
    "print('A \\n=\\n{}\\n'.format(A))\n",
    "\n",
    "np.set_printoptions(suppress=True)\n",
    "AT_A = np.linalg.multi_dot([A, A.T])\n",
    "print('AT A \\n=\\n{}'.format(AT_A))"
   ]
  },
  {
   "cell_type": "markdown",
   "metadata": {},
   "source": [
    "## 02.07. Eigendecomposition"
   ]
  },
  {
   "cell_type": "code",
   "execution_count": 243,
   "metadata": {},
   "outputs": [
    {
     "name": "stdout",
     "output_type": "stream",
     "text": [
      "A =\n",
      "[[2 3]\n",
      " [0 3]]\n",
      "l =\n",
      "[2. 3.]\n",
      "V =\n",
      "[[1.         0.9486833 ]\n",
      " [0.         0.31622777]]\n"
     ]
    },
    {
     "data": {
      "image/png": "[encoded data removed]",
      "text/plain": [
       "<Figure size 360x360 with 1 Axes>"
      ]
     },
     "metadata": {
      "needs_background": "light"
     },
     "output_type": "display_data"
    }
   ],
   "source": [
    "# np.random.seed(3)\n",
    "np.random.seed(24)\n",
    "theta1, theta2 = np.pi/6, np.pi/3\n",
    "# x1, x2 = np.array([np.cos(theta1), np.sin(theta1)]), np.array([np.cos(theta2), np.sin(theta2)])\n",
    "# X = np.stack((x1, x2)).T\n",
    "\n",
    "A = np.random.randint(4, size=4).reshape(2,2)\n",
    "# A = np.array([[]])\n",
    "l, V = np.linalg.eig(A)\n",
    "# v_norm = np.linalg.norm(v)\n",
    "# lambda_v = np.matmul(A, v/v_norm)\n",
    "\n",
    "print('A =\\n{}'.format(A))\n",
    "print('l =\\n{}'.format(l))\n",
    "print('V =\\n{}'.format(V))\n",
    "# print('v (l2) =\\n{}'.format(v/v_norm))\n",
    "\n",
    "fig, ax = plt.subplots(figsize=(5,5))\n",
    "\n",
    "ax.scatter(V[0, 0], V[1, 0], c=c['b'])\n",
    "ax.scatter(V[0, 1], V[1, 1], c=c['b'])\n",
    "ax.plot([0, V[0, 0]], [0, V[1, 0]], c=c['b'], linestyle='-')\n",
    "ax.plot([0, V[0, 1]], [0, V[1, 1]], c=c['b'], linestyle='-')\n",
    "ax.text(V[0, 0], V[1, 0], r'$v^{(1)}$', ha='left', va='top')#, bbox=dict(fc='w', ec='w', alpha=.7))\n",
    "ax.text(V[0, 1], V[1, 1], r'$v^{(2)}$', ha='right', va='bottom')#, bbox=dict(fc='w', ec='w', alpha=.7))\n",
    "\n",
    "ax.scatter(V[0, 0]*l[0], V[1, 0]*l[0], c=c['b'])\n",
    "ax.scatter(V[0, 1]*l[1], V[1, 1]*l[1], c=c['b'])\n",
    "ax.plot([0, V[0, 0]*l[0]], [0, V[1, 0]*l[0]], c=c['b'], linestyle='--')\n",
    "ax.plot([0, V[0, 1]*l[1]], [0, V[1, 1]*l[1]], c=c['b'], linestyle='--')\n",
    "ax.text(V[0, 0]*l[0], V[1, 0]*l[0], r'$\\lambda_1 v^{(1)}$', ha='left', va='top')#, bbox=dict(fc='w', ec='w', alpha=.7))\n",
    "ax.text(V[0, 1]*l[1], V[1, 1]*l[1], r'$\\lambda_2 v^{(2)}$', ha='right', va='bottom')#, bbox=dict(fc='w', ec='w', alpha=.7))\n",
    "\n",
    "# ax.scatter(v[0]/v_norm, v[1]/v_norm, c=c['g'])\n",
    "# ax.scatter(lambda_v[0], lambda_v[1], c=c['g'])\n",
    "\n",
    "thetas = np.linspace(0, np.pi*2, 100)\n",
    "ax.plot(np.cos(thetas), np.sin(thetas), linestyle=':', c=c['b'])\n",
    "# ax.text(2, 2, \n",
    "#         (r'$\\begin{matrix} %.1f & %.1f \\\\ %.1f & %.1f \\end{matrix}$'%(V[0,0], V[0,1], V[1,0], V[1,1])))\n",
    "ax.set(\n",
    "    title='eigenvectors & eigevalues',\n",
    "    #title='Eigendecomposition: ' r'$\\mathbf{Av} = \\mathbf{\\lambda v}$',\n",
    "    xlim=(-1., 3.), \n",
    "    ylim=(-2., 2.), \n",
    "    xlabel=r'$x_0$', \n",
    "    ylabel=r'$x_1$'\n",
    ")\n",
    "ax.grid(True)\n",
    "\n",
    "plt.tight_layout()\n",
    "# plt.savefig('fig/0203.png')\n",
    "plt.show()"
   ]
  },
  {
   "cell_type": "code",
   "execution_count": 207,
   "metadata": {},
   "outputs": [
    {
     "name": "stdout",
     "output_type": "stream",
     "text": [
      "A =\n",
      "[[4 4]\n",
      " [4 6]]\n",
      "\n",
      "V diag(λ) inv(V) =\n",
      "\n",
      "[[-0.78820544 -0.61541221]\n",
      " [ 0.61541221 -0.78820544]] \n",
      "\n",
      "[[0.87689437 0.        ]\n",
      " [0.         9.12310563]] \n",
      "\n",
      "[[-0.78820544  0.61541221]\n",
      " [-0.61541221 -0.78820544]] =\n",
      "\n",
      "[[4. 4.]\n",
      " [4. 6.]]\n"
     ]
    }
   ],
   "source": [
    "np.random.seed(111)\n",
    "A = np.random.randint(9, size=4).reshape(2,2)\n",
    "# A = np.array([[]])\n",
    "l, V = np.linalg.eig(A)\n",
    "A_res = np.linalg.multi_dot([V, np.diag(l), np.linalg.inv(V)])\n",
    "\n",
    "print('A =\\n{}\\n'.format(A))\n",
    "print('V diag(λ) inv(V) =\\n\\n{} \\n\\n{} \\n\\n{} =\\n\\n{}'.format(V, np.diag(l), np.linalg.inv(V), A_res))\n"
   ]
  },
  {
   "cell_type": "markdown",
   "metadata": {},
   "source": [
    "## 02.08. Singular Value Decomposition"
   ]
  },
  {
   "cell_type": "code",
   "execution_count": 256,
   "metadata": {},
   "outputs": [
    {
     "name": "stdout",
     "output_type": "stream",
     "text": [
      "A =\n",
      "[[3 4]\n",
      " [0 1]]\n",
      "\n",
      "unitary mat\n",
      "u =\n",
      "[[ 0.98708746 -0.16018224]\n",
      " [ 0.16018224  0.98708746]]\n",
      "\n",
      "singular vec\n",
      "s =\n",
      "[5.0644951  0.59235915]\n",
      "\n",
      "vh =\n",
      "[[ 0.58471028  0.81124219]\n",
      " [-0.81124219  0.58471028]]\n",
      "\n"
     ]
    },
    {
     "ename": "LinAlgError",
     "evalue": "1-dimensional array given. Array must be two-dimensional",
     "output_type": "error",
     "traceback": [
      "\u001b[0;31m---------------------------------------------------------------------------\u001b[0m",
      "\u001b[0;31mLinAlgError\u001b[0m                               Traceback (most recent call last)",
      "\u001b[0;32m<ipython-input-256-40c70bc2be19>\u001b[0m in \u001b[0;36m<module>\u001b[0;34m\u001b[0m\n\u001b[1;32m      7\u001b[0m \u001b[0mprint\u001b[0m\u001b[0;34m(\u001b[0m\u001b[0;34m'vh =\\n{}\\n'\u001b[0m\u001b[0;34m.\u001b[0m\u001b[0mformat\u001b[0m\u001b[0;34m(\u001b[0m\u001b[0mvh\u001b[0m\u001b[0;34m)\u001b[0m\u001b[0;34m)\u001b[0m\u001b[0;34m\u001b[0m\u001b[0m\n\u001b[1;32m      8\u001b[0m \u001b[0;34m\u001b[0m\u001b[0m\n\u001b[0;32m----> 9\u001b[0;31m \u001b[0mA_product\u001b[0m \u001b[0;34m=\u001b[0m \u001b[0mnp\u001b[0m\u001b[0;34m.\u001b[0m\u001b[0mlinalg\u001b[0m\u001b[0;34m.\u001b[0m\u001b[0mmulti_dot\u001b[0m\u001b[0;34m(\u001b[0m\u001b[0;34m[\u001b[0m\u001b[0mu\u001b[0m\u001b[0;34m,\u001b[0m \u001b[0ms\u001b[0m\u001b[0;34m,\u001b[0m \u001b[0mvh\u001b[0m\u001b[0;34m[\u001b[0m\u001b[0;36m0\u001b[0m\u001b[0;34m,\u001b[0m\u001b[0;36m0\u001b[0m\u001b[0;34m]\u001b[0m\u001b[0;34m]\u001b[0m\u001b[0;34m)\u001b[0m\u001b[0;34m\u001b[0m\u001b[0m\n\u001b[0m\u001b[1;32m     10\u001b[0m \u001b[0mprint\u001b[0m\u001b[0;34m(\u001b[0m\u001b[0;34m'U D VT =\\n{}'\u001b[0m\u001b[0;34m.\u001b[0m\u001b[0mformat\u001b[0m\u001b[0;34m(\u001b[0m\u001b[0mA_product\u001b[0m\u001b[0;34m)\u001b[0m\u001b[0;34m)\u001b[0m\u001b[0;34m\u001b[0m\u001b[0m\n",
      "\u001b[0;32m~/.pyenv/versions/anaconda3-5.0.1/lib/python3.6/site-packages/numpy/linalg/linalg.py\u001b[0m in \u001b[0;36mmulti_dot\u001b[0;34m(arrays)\u001b[0m\n\u001b[1;32m   2536\u001b[0m     \u001b[0;32mif\u001b[0m \u001b[0marrays\u001b[0m\u001b[0;34m[\u001b[0m\u001b[0;34m-\u001b[0m\u001b[0;36m1\u001b[0m\u001b[0;34m]\u001b[0m\u001b[0;34m.\u001b[0m\u001b[0mndim\u001b[0m \u001b[0;34m==\u001b[0m \u001b[0;36m1\u001b[0m\u001b[0;34m:\u001b[0m\u001b[0;34m\u001b[0m\u001b[0m\n\u001b[1;32m   2537\u001b[0m         \u001b[0marrays\u001b[0m\u001b[0;34m[\u001b[0m\u001b[0;34m-\u001b[0m\u001b[0;36m1\u001b[0m\u001b[0;34m]\u001b[0m \u001b[0;34m=\u001b[0m \u001b[0matleast_2d\u001b[0m\u001b[0;34m(\u001b[0m\u001b[0marrays\u001b[0m\u001b[0;34m[\u001b[0m\u001b[0;34m-\u001b[0m\u001b[0;36m1\u001b[0m\u001b[0;34m]\u001b[0m\u001b[0;34m)\u001b[0m\u001b[0;34m.\u001b[0m\u001b[0mT\u001b[0m\u001b[0;34m\u001b[0m\u001b[0m\n\u001b[0;32m-> 2538\u001b[0;31m     \u001b[0m_assertRank2\u001b[0m\u001b[0;34m(\u001b[0m\u001b[0;34m*\u001b[0m\u001b[0marrays\u001b[0m\u001b[0;34m)\u001b[0m\u001b[0;34m\u001b[0m\u001b[0m\n\u001b[0m\u001b[1;32m   2539\u001b[0m \u001b[0;34m\u001b[0m\u001b[0m\n\u001b[1;32m   2540\u001b[0m     \u001b[0;31m# _multi_dot_three is much faster than _multi_dot_matrix_chain_order\u001b[0m\u001b[0;34m\u001b[0m\u001b[0;34m\u001b[0m\u001b[0m\n",
      "\u001b[0;32m~/.pyenv/versions/anaconda3-5.0.1/lib/python3.6/site-packages/numpy/linalg/linalg.py\u001b[0m in \u001b[0;36m_assertRank2\u001b[0;34m(*arrays)\u001b[0m\n\u001b[1;32m    196\u001b[0m         \u001b[0;32mif\u001b[0m \u001b[0ma\u001b[0m\u001b[0;34m.\u001b[0m\u001b[0mndim\u001b[0m \u001b[0;34m!=\u001b[0m \u001b[0;36m2\u001b[0m\u001b[0;34m:\u001b[0m\u001b[0;34m\u001b[0m\u001b[0m\n\u001b[1;32m    197\u001b[0m             raise LinAlgError('%d-dimensional array given. Array must be '\n\u001b[0;32m--> 198\u001b[0;31m                     'two-dimensional' % a.ndim)\n\u001b[0m\u001b[1;32m    199\u001b[0m \u001b[0;34m\u001b[0m\u001b[0m\n\u001b[1;32m    200\u001b[0m \u001b[0;32mdef\u001b[0m \u001b[0m_assertRankAtLeast2\u001b[0m\u001b[0;34m(\u001b[0m\u001b[0;34m*\u001b[0m\u001b[0marrays\u001b[0m\u001b[0;34m)\u001b[0m\u001b[0;34m:\u001b[0m\u001b[0;34m\u001b[0m\u001b[0m\n",
      "\u001b[0;31mLinAlgError\u001b[0m: 1-dimensional array given. Array must be two-dimensional"
     ]
    }
   ],
   "source": [
    "np.random.seed(1)\n",
    "A = np.random.randint(5, size=4).reshape(2,2)\n",
    "u, s, vh = np.linalg.svd(A, full_matrices=False)\n",
    "print('A =\\n{}\\n'.format(A))\n",
    "print('unitary mat\\nu =\\n{}\\n'.format(u))\n",
    "print('singular vec\\ns =\\n{}\\n'.format(s))\n",
    "print('vh =\\n{}\\n'.format(vh))\n",
    "\n",
    "A_product = np.linalg.multi_dot([u, s, vh[0,0]])\n",
    "print('U D VT =\\n{}'.format(A_product))"
   ]
  },
  {
   "cell_type": "markdown",
   "metadata": {},
   "source": [
    "## 02.09. The Moore-Penrose Pseudoinverse\n",
    "## 02.10. The Trace Operator\n",
    "## 02.11. The Determinant\n",
    "## 02.12. Example: Principal Components Analysis"
   ]
  },
  {
   "cell_type": "code",
   "execution_count": null,
   "metadata": {},
   "outputs": [],
   "source": []
  }
 ],
 "metadata": {
  "kernelspec": {
   "display_name": "Python 3",
   "language": "python",
   "name": "python3"
  },
  "language_info": {
   "codemirror_mode": {
    "name": "ipython",
    "version": 3
   },
   "file_extension": ".py",
   "mimetype": "text/x-python",
   "name": "python",
   "nbconvert_exporter": "python",
   "pygments_lexer": "ipython3",
   "version": "3.6.5"
  }
 },
 "nbformat": 4,
 "nbformat_minor": 2
}
