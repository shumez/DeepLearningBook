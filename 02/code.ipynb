{
 "cells": [
  {
   "cell_type": "markdown",
   "metadata": {},
   "source": [
    "# 02. Linear Algebra"
   ]
  },
  {
   "cell_type": "markdown",
   "metadata": {},
   "source": [
    "*Contents*\n",
    "\n",
    "* [02.00.][0200]\n",
    "* [02.01. Scalars, Vectors, Matrices and Tensors][0201]\n",
    "* [02.02. Multiplying Matrices and Vectors][0202]\n",
    "* [02.03. Identity and Inverse Matrices][0203]\n",
    "* [02.04. Linear Dependence and Span][0204]\n",
    "* [02.05. Norms][0205]\n",
    "* [02.06. Special Kinds of Matricesand Vectors][0206]\n",
    "* [02.07. Eigendecomposition][0207]\n",
    "* [02.08. Singular Value Decomposition][0208]\n",
    "* [02.09. The Moore-Penrose Pseudoinverse][0209]\n",
    "* [02.10. The Trace Operator][0210]\n",
    "* [02.11. The Determinant][0211]\n",
    "* [02.12. Example: Principal Components Analysis][0212]\n",
    "\n",
    "[0200]: #0200\n",
    "[0201]: #0201-scalars-vectors-matrices-and-tensors\n",
    "[0202]: #0202-multiplying-matrices-and-vectors\n",
    "[0203]: #0203-identity-and-inverse-matrices\n",
    "[0204]: #0204-linear-dependence-and-span\n",
    "[0205]: #0205-norms\n",
    "[0206]: #0206-special-kinds-of-matricesand-vectors\n",
    "[0207]: #0207-eigendecomposition\n",
    "[0208]: #0208-singular-value-decomposition\n",
    "[0209]: #0209-the-moore-penrose-pseudoinverse\n",
    "[0210]: #0210-the-trace-operator\n",
    "[0211]: #0211-the_determinant\n",
    "[0212]: #0212-example-principal-components-analysis\n",
    "\n",
    "---"
   ]
  },
  {
   "cell_type": "code",
   "execution_count": 1,
   "metadata": {},
   "outputs": [
    {
     "name": "stdout",
     "output_type": "stream",
     "text": [
      "2019-6-1 20:52:34\n",
      "----------------------\n",
      "numpy\t\t1.15.2\n",
      "scipy\t\t1.1.0\n",
      "pandas\t\t0.24.1\n",
      "matplotlib\t3.0.0\n",
      "----------------------\n",
      "ipython\t\t7.2.0\n",
      "----------------------\n",
      "sklearn\t\t0.20.0\n",
      "nltk\t\t3.2.5\n"
     ]
    }
   ],
   "source": [
    "# import\n",
    "import numpy as np\n",
    "import scipy\n",
    "import pandas as pd\n",
    "import matplotlib\n",
    "import matplotlib.pyplot as plt\n",
    "import IPython\n",
    "import sklearn\n",
    "import nltk\n",
    "\n",
    "from IPython.display import Image\n",
    "%matplotlib inline\n",
    "\n",
    "import datetime\n",
    "dt = datetime.datetime.now()\n",
    "\n",
    "print(\n",
    "\"\"\"{}-{}-{} {}:{}:{}\n",
    "----------------------\n",
    "numpy\\t\\t{}\n",
    "scipy\\t\\t{}\n",
    "pandas\\t\\t{}\n",
    "matplotlib\\t{}\n",
    "----------------------\n",
    "ipython\\t\\t{}\n",
    "----------------------\n",
    "sklearn\\t\\t{}\n",
    "nltk\\t\\t{}\"\"\"\n",
    "    .format(dt.year, dt.month, dt.day, dt.hour, dt.minute, dt.second, np.__version__, scipy.__version__, pd.__version__, matplotlib.__version__, IPython.__version__, sklearn.__version__, nltk.__version__))\n",
    "\n",
    "c = {'b': '#1f77b4', \n",
    "     'o': '#ff7f0e', \n",
    "     'g': '#2ca02c', \n",
    "     'r': '#d62728', \n",
    "     'v': '#9467bd', \n",
    "     'br': '#8c564b', \n",
    "     'p': '#e377c2', \n",
    "     'gr': '#7f7f7f', \n",
    "     'y': '#bcbd22', \n",
    "     'c': '#17becf'}"
   ]
  },
  {
   "cell_type": "markdown",
   "metadata": {},
   "source": [
    "## 02.01. Scalars, Vectors, Matrices and Tensors"
   ]
  },
  {
   "cell_type": "markdown",
   "metadata": {},
   "source": [
    "- scalars\n",
    "- vectors\n",
    "- matrices: $\\mathbf{A}$\n",
    "- tensors: $\\mathsf{A}_{i, j, k}$"
   ]
  },
  {
   "cell_type": "markdown",
   "metadata": {},
   "source": [
    "## 02.02. Multiplying Matrices and Vectors"
   ]
  },
  {
   "cell_type": "markdown",
   "metadata": {},
   "source": [
    "## 02.03. Identity and Inverse Matrices\n",
    "## 02.04. Linear Dependence and Span\n",
    "## 02.05. Norms"
   ]
  },
  {
   "cell_type": "markdown",
   "metadata": {},
   "source": [
    "## 02.06. Special Kinds of Matricesand Vectors"
   ]
  },
  {
   "cell_type": "code",
   "execution_count": 2,
   "metadata": {},
   "outputs": [
    {
     "data": {
      "text/plain": [
       "array([[1, 0, 0],\n",
       "       [0, 2, 0],\n",
       "       [0, 0, 3]])"
      ]
     },
     "execution_count": 2,
     "metadata": {},
     "output_type": "execute_result"
    }
   ],
   "source": [
    "v = np.array([1, 2, 3])\n",
    "np.diag(v)"
   ]
  },
  {
   "cell_type": "markdown",
   "metadata": {},
   "source": [
    "## 02.07. Eigendecomposition\n",
    "## 02.08. Singular Value Decomposition\n",
    "## 02.09. The Moore-Penrose Pseudoinverse\n",
    "## 02.10. The Trace Operator\n",
    "## 02.11. The Determinant\n",
    "## 02.12. Example: Principal Components Analysis"
   ]
  },
  {
   "cell_type": "code",
   "execution_count": null,
   "metadata": {},
   "outputs": [],
   "source": []
  }
 ],
 "metadata": {
  "kernelspec": {
   "display_name": "Python 3",
   "language": "python",
   "name": "python3"
  },
  "language_info": {
   "codemirror_mode": {
    "name": "ipython",
    "version": 3
   },
   "file_extension": ".py",
   "mimetype": "text/x-python",
   "name": "python",
   "nbconvert_exporter": "python",
   "pygments_lexer": "ipython3",
   "version": "3.6.5"
  }
 },
 "nbformat": 4,
 "nbformat_minor": 2
}
