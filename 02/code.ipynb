{
 "cells": [
  {
   "cell_type": "markdown",
   "metadata": {},
   "source": [
    "# 02. Linear Algebra\n",
    "---"
   ]
  },
  {
   "cell_type": "markdown",
   "metadata": {},
   "source": [
    "*Contents*\n",
    "\n",
    "* [02.01. Scalars, Vectors, Matrices and Tensors][0201]\n",
    "* [02.02. Multiplying Matrices and Vectors][0202]\n",
    "* [02.03. Identity and Inverse Matrices][0203]\n",
    "\n",
    "\n",
    "[0201]: #0201_scalars_vectors_matrices_and_tensors\n",
    "[0202]: #0202_multiplying_matrices_and_vectors\n",
    "[0203]: #0203_identity_and_inverse_matrices\n",
    "---"
   ]
  },
  {
   "cell_type": "markdown",
   "metadata": {},
   "source": [
    "## 02.01. Scalars, Vectors, Matrices and Tensors\n",
    "---"
   ]
  },
  {
   "cell_type": "markdown",
   "metadata": {},
   "source": [
    "- scalars\n",
    "- vectors\n",
    "- matrices: $\\mathbf{A}$\n",
    "- tensors: $\\mathsf{A}_{i, j, k}$"
   ]
  },
  {
   "cell_type": "markdown",
   "metadata": {},
   "source": [
    "## 02.02. Multiplying Matrices and Vectors\n",
    "---"
   ]
  },
  {
   "cell_type": "markdown",
   "metadata": {},
   "source": [
    "## 02.03. Identity and Inverse Matrices\n",
    "---"
   ]
  },
  {
   "cell_type": "markdown",
   "metadata": {},
   "source": [
    "---\n",
    "\n",
    "*Contents*\n",
    "\n",
    "* [02.01. Scalars, Vectors, Matrices and Tensors][0201]\n",
    "* [02.02. Multiplying Matrices and Vectors][0202]\n",
    "* [02.03. Identity and Inverse Matrices][0203]\n",
    "\n",
    "\n",
    "[0201]: #0201_scalars_vectors_matrices_and_tensors\n",
    "[0202]: #0202_multiplying_matrices_and_vectors\n",
    "[0203]: #0203_identity_and_inverse_matrices"
   ]
  }
 ],
 "metadata": {
  "kernelspec": {
   "display_name": "Python 3",
   "language": "python",
   "name": "python3"
  },
  "language_info": {
   "codemirror_mode": {
    "name": "ipython",
    "version": 3
   },
   "file_extension": ".py",
   "mimetype": "text/x-python",
   "name": "python",
   "nbconvert_exporter": "python",
   "pygments_lexer": "ipython3",
   "version": "3.6.5"
  }
 },
 "nbformat": 4,
 "nbformat_minor": 2
}
