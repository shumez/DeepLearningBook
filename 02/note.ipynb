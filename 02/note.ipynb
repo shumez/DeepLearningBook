{
 "cells": [
  {
   "cell_type": "markdown",
   "metadata": {},
   "source": [
    "# 2 Linear Algebra\n",
    "---"
   ]
  },
  {
   "cell_type": "markdown",
   "metadata": {},
   "source": [
    "*Overview*\n",
    "\n",
    "- [2.1 Scalars, Vectors, Matrices and Tensors](#2.1-Scalars,-Vectors,-Matrices-and-Tensors)\n",
    "- [2.2 Multiplying Matrices and Vectors](#2.2-Multiplying-Matrices-and-Vectors)\n",
    "- [2.3 Identity and Inverse Matrices](#2.3-Identity-and-Inverse-Matrices)\n",
    "\n",
    "---"
   ]
  },
  {
   "cell_type": "markdown",
   "metadata": {},
   "source": [
    "## 2.1 Scalars, Vectors, Matrices and Tensors\n",
    "---"
   ]
  },
  {
   "cell_type": "markdown",
   "metadata": {},
   "source": [
    "- scalars\n",
    "- vectors\n",
    "- matrices: $\\mathbf{A}$\n",
    "- tensors: $\\mathsf{A}_{i, j, k}$"
   ]
  },
  {
   "cell_type": "markdown",
   "metadata": {},
   "source": [
    "## 2.2 Multiplying Matrices and Vectors\n",
    "---"
   ]
  },
  {
   "cell_type": "markdown",
   "metadata": {},
   "source": [
    "## 2.3 Identity and Inverse Matrices\n",
    "---"
   ]
  },
  {
   "cell_type": "markdown",
   "metadata": {},
   "source": [
    "---\n",
    "\n",
    "*Overview*\n",
    "\n",
    "- [2.1 Scalars, Vectors, Matrices and Tensors](#2.1-Scalars,-Vectors,-Matrices-and-Tensors)\n",
    "- [2.2 Multiplying Matrices and Vectors](#2.2-Multiplying-Matrices-and-Vectors)\n",
    "- [2.3 Identity and Inverse Matrices](#2.3-Identity-and-Inverse-Matrices)"
   ]
  }
 ],
 "metadata": {
  "kernelspec": {
   "display_name": "Python 3",
   "language": "python",
   "name": "python3"
  },
  "language_info": {
   "codemirror_mode": {
    "name": "ipython",
    "version": 3
   },
   "file_extension": ".py",
   "mimetype": "text/x-python",
   "name": "python",
   "nbconvert_exporter": "python",
   "pygments_lexer": "ipython3",
   "version": "3.6.3"
  }
 },
 "nbformat": 4,
 "nbformat_minor": 2
}
